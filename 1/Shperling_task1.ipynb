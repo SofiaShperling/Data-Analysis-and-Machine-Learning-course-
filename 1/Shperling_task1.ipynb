{
 "nbformat": 4,
 "nbformat_minor": 0,
 "metadata": {
  "anaconda-cloud": {},
  "kernelspec": {
   "display_name": "Python 3",
   "language": "python",
   "name": "python3"
  },
  "language_info": {
   "codemirror_mode": {
    "name": "ipython",
    "version": 3
   },
   "file_extension": ".py",
   "mimetype": "text/x-python",
   "name": "python",
   "nbconvert_exporter": "python",
   "pygments_lexer": "ipython3",
   "version": "3.6.6"
  },
  "colab": {
   "name": "Софья Михайловна Шперлинг - ДЗ_1_Работа_с_Pandas.ipynb",
   "provenance": [],
   "collapsed_sections": [],
   "toc_visible": true
  }
 },
 "cells": [
  {
   "cell_type": "markdown",
   "metadata": {
    "id": "hTxsC7Pqpsvq"
   },
   "source": [
    "Шперлинг Софья 21151\n",
    "## Специализированные программные библиотеки для анализа данных."
   ]
  },
  {
   "cell_type": "markdown",
   "metadata": {
    "id": "r_DzOGLdpsvr"
   },
   "source": [
    "### Импортируем необходимые модули "
   ]
  },
  {
   "cell_type": "code",
   "metadata": {
    "id": "JBI21yNYpsvr"
   },
   "source": [
    "import numpy as np\n",
    "import scipy\n",
    "import pandas as pd\n",
    "import matplotlib.pyplot as plt # библиотека для построения графиков\n",
    "import matplotlib.ticker as mticker\n",
    "import seaborn as sns # библиотека для построения графиков\n",
    "#sns.set()\n",
    "# с помощью этой строки мы можем включать в этот документ графики:\n",
    "%matplotlib inline "
   ],
   "execution_count": 1887,
   "outputs": []
  },
  {
   "cell_type": "markdown",
   "metadata": {
    "id": "s1q3ZjWgAJvR"
   },
   "source": [
    "##### Набор данных -- свежая сводка по эпидемиологической обстановке в России"
   ]
  },
  {
   "cell_type": "code",
   "metadata": {
    "id": "wr7uGPdNqgJV"
   },
   "source": [
    "ncov_ru_de = pd.read_csv('COVID_RU_Ya_descr.csv')# прочитайте данные из файла 'COVID_RU_Ya_descr.csv'\n",
    "ncov_ru_de.head()"
   ],
   "execution_count": 1888,
   "outputs": [
    {
     "data": {
      "text/plain": "   Unnamed: 0                                 ФО              Регион  \\\n0           0  Дальневосточный федеральный округ       Амурская обл.   \n1           1  Дальневосточный федеральный округ             Бурятия   \n2           2  Дальневосточный федеральный округ        Еврейская АО   \n3           3  Дальневосточный федеральный округ  Забайкальский край   \n4           4  Дальневосточный федеральный округ     Камчатский край   \n\n                Регион название  Регион население  \n0              Амурская область            798424  \n1            Республика Бурятия            984511  \n2  Еврейская автономная область            162014  \n3            Забайкальский край           1072806  \n4               Камчатский край            315557  ",
      "text/html": "<div>\n<style scoped>\n    .dataframe tbody tr th:only-of-type {\n        vertical-align: middle;\n    }\n\n    .dataframe tbody tr th {\n        vertical-align: top;\n    }\n\n    .dataframe thead th {\n        text-align: right;\n    }\n</style>\n<table border=\"1\" class=\"dataframe\">\n  <thead>\n    <tr style=\"text-align: right;\">\n      <th></th>\n      <th>Unnamed: 0</th>\n      <th>ФО</th>\n      <th>Регион</th>\n      <th>Регион название</th>\n      <th>Регион население</th>\n    </tr>\n  </thead>\n  <tbody>\n    <tr>\n      <th>0</th>\n      <td>0</td>\n      <td>Дальневосточный федеральный округ</td>\n      <td>Амурская обл.</td>\n      <td>Амурская область</td>\n      <td>798424</td>\n    </tr>\n    <tr>\n      <th>1</th>\n      <td>1</td>\n      <td>Дальневосточный федеральный округ</td>\n      <td>Бурятия</td>\n      <td>Республика Бурятия</td>\n      <td>984511</td>\n    </tr>\n    <tr>\n      <th>2</th>\n      <td>2</td>\n      <td>Дальневосточный федеральный округ</td>\n      <td>Еврейская АО</td>\n      <td>Еврейская автономная область</td>\n      <td>162014</td>\n    </tr>\n    <tr>\n      <th>3</th>\n      <td>3</td>\n      <td>Дальневосточный федеральный округ</td>\n      <td>Забайкальский край</td>\n      <td>Забайкальский край</td>\n      <td>1072806</td>\n    </tr>\n    <tr>\n      <th>4</th>\n      <td>4</td>\n      <td>Дальневосточный федеральный округ</td>\n      <td>Камчатский край</td>\n      <td>Камчатский край</td>\n      <td>315557</td>\n    </tr>\n  </tbody>\n</table>\n</div>"
     },
     "execution_count": 1888,
     "metadata": {},
     "output_type": "execute_result"
    }
   ]
  },
  {
   "cell_type": "code",
   "execution_count": 1889,
   "outputs": [
    {
     "data": {
      "text/plain": "   Unnamed: 0        Дата             Регион  Заражений  Выздоровлений  \\\n0          30  12.03.2020    Мурманская обл.          0              0   \n1          31  12.03.2020  Новгородская обл.          0              0   \n2          32  12.03.2020     Псковская обл.          0              0   \n3          33  12.03.2020    Санкт-Петербург          1              0   \n4          34  12.03.2020           Дагестан          0              0   \n\n   Смертей  Смертей за день  Заражений за день  Выздоровлений за день  \\\n0        0                0                  0                      0   \n1        0                0                  0                      0   \n2        0                0                  0                      0   \n3        0                0                  1                      0   \n4        0                0                  0                      0   \n\n   Летальность, %  \n0             NaN  \n1             NaN  \n2             NaN  \n3             0.0  \n4             NaN  ",
      "text/html": "<div>\n<style scoped>\n    .dataframe tbody tr th:only-of-type {\n        vertical-align: middle;\n    }\n\n    .dataframe tbody tr th {\n        vertical-align: top;\n    }\n\n    .dataframe thead th {\n        text-align: right;\n    }\n</style>\n<table border=\"1\" class=\"dataframe\">\n  <thead>\n    <tr style=\"text-align: right;\">\n      <th></th>\n      <th>Unnamed: 0</th>\n      <th>Дата</th>\n      <th>Регион</th>\n      <th>Заражений</th>\n      <th>Выздоровлений</th>\n      <th>Смертей</th>\n      <th>Смертей за день</th>\n      <th>Заражений за день</th>\n      <th>Выздоровлений за день</th>\n      <th>Летальность, %</th>\n    </tr>\n  </thead>\n  <tbody>\n    <tr>\n      <th>0</th>\n      <td>30</td>\n      <td>12.03.2020</td>\n      <td>Мурманская обл.</td>\n      <td>0</td>\n      <td>0</td>\n      <td>0</td>\n      <td>0</td>\n      <td>0</td>\n      <td>0</td>\n      <td>NaN</td>\n    </tr>\n    <tr>\n      <th>1</th>\n      <td>31</td>\n      <td>12.03.2020</td>\n      <td>Новгородская обл.</td>\n      <td>0</td>\n      <td>0</td>\n      <td>0</td>\n      <td>0</td>\n      <td>0</td>\n      <td>0</td>\n      <td>NaN</td>\n    </tr>\n    <tr>\n      <th>2</th>\n      <td>32</td>\n      <td>12.03.2020</td>\n      <td>Псковская обл.</td>\n      <td>0</td>\n      <td>0</td>\n      <td>0</td>\n      <td>0</td>\n      <td>0</td>\n      <td>0</td>\n      <td>NaN</td>\n    </tr>\n    <tr>\n      <th>3</th>\n      <td>33</td>\n      <td>12.03.2020</td>\n      <td>Санкт-Петербург</td>\n      <td>1</td>\n      <td>0</td>\n      <td>0</td>\n      <td>0</td>\n      <td>1</td>\n      <td>0</td>\n      <td>0.0</td>\n    </tr>\n    <tr>\n      <th>4</th>\n      <td>34</td>\n      <td>12.03.2020</td>\n      <td>Дагестан</td>\n      <td>0</td>\n      <td>0</td>\n      <td>0</td>\n      <td>0</td>\n      <td>0</td>\n      <td>0</td>\n      <td>NaN</td>\n    </tr>\n  </tbody>\n</table>\n</div>"
     },
     "execution_count": 1889,
     "metadata": {},
     "output_type": "execute_result"
    }
   ],
   "source": [
    "ncov_ru_stat =pd.read_csv('COVID_RU_Ya_stat.csv')# прочитайте данные из файла 'COVID_RU_Ya_stat.csv'\n",
    "ncov_ru_stat.head()"
   ],
   "metadata": {
    "collapsed": false,
    "pycharm": {
     "name": "#%%\n"
    }
   }
  },
  {
   "cell_type": "markdown",
   "metadata": {
    "id": "I2XerF2XqgF2",
    "pycharm": {
     "name": "#%% md\n"
    }
   },
   "source": [
    "в качестве ключа я выбрала Регион"
   ]
  },
  {
   "cell_type": "code",
   "execution_count": 1890,
   "outputs": [],
   "source": [
    "# объедените таблицы ncov_ru_de и ncov_ru_stat -- необходимо использовать какой-то ключ для объединения\n",
    "                    # и что это за поле могло бы быть ключом?\n",
    "ncov_ru_j = pd.merge(ncov_ru_de, ncov_ru_stat, on=('Регион'))\n"
   ],
   "metadata": {
    "collapsed": false,
    "pycharm": {
     "name": "#%%\n"
    }
   }
  },
  {
   "cell_type": "code",
   "metadata": {
    "id": "12EU2OQUSt4K",
    "colab": {
     "base_uri": "https://localhost:8080/"
    },
    "outputId": "5789c371-0177-47ef-f09c-5ecbd8cedad7"
   },
   "source": [
    "## так можно посмотреть колонки:\n",
    "ncov_ru_de.columns"
   ],
   "execution_count": 1891,
   "outputs": [
    {
     "data": {
      "text/plain": "Index(['Unnamed: 0', 'ФО', 'Регион', 'Регион название', 'Регион население'], dtype='object')"
     },
     "execution_count": 1891,
     "metadata": {},
     "output_type": "execute_result"
    }
   ]
  },
  {
   "cell_type": "code",
   "execution_count": 1892,
   "outputs": [
    {
     "data": {
      "text/plain": "Index(['Unnamed: 0', 'Дата', 'Регион', 'Заражений', 'Выздоровлений', 'Смертей',\n       'Смертей за день', 'Заражений за день', 'Выздоровлений за день',\n       'Летальность, %'],\n      dtype='object')"
     },
     "execution_count": 1892,
     "metadata": {},
     "output_type": "execute_result"
    }
   ],
   "source": [
    "ncov_ru_stat.columns\n"
   ],
   "metadata": {
    "collapsed": false,
    "pycharm": {
     "name": "#%%\n"
    }
   }
  },
  {
   "cell_type": "code",
   "execution_count": 1893,
   "outputs": [
    {
     "data": {
      "text/plain": "RangeIndex(start=0, stop=85, step=1)"
     },
     "execution_count": 1893,
     "metadata": {},
     "output_type": "execute_result"
    }
   ],
   "source": [
    "ncov_ru_de.index"
   ],
   "metadata": {
    "collapsed": false,
    "pycharm": {
     "name": "#%%\n"
    }
   }
  },
  {
   "cell_type": "code",
   "execution_count": 1894,
   "outputs": [
    {
     "data": {
      "text/plain": "RangeIndex(start=0, stop=20523, step=1)"
     },
     "execution_count": 1894,
     "metadata": {},
     "output_type": "execute_result"
    }
   ],
   "source": [
    "ncov_ru_stat.index"
   ],
   "metadata": {
    "collapsed": false,
    "pycharm": {
     "name": "#%%\n"
    }
   }
  },
  {
   "cell_type": "code",
   "execution_count": 1895,
   "outputs": [
    {
     "data": {
      "text/plain": "Unnamed: 0_x               int64\nФО                        object\nРегион                    object\nРегион название           object\nРегион население           int64\nUnnamed: 0_y               int64\nДата                      object\nЗаражений                  int64\nВыздоровлений              int64\nСмертей                    int64\nСмертей за день            int64\nЗаражений за день          int64\nВыздоровлений за день      int64\nЛетальность, %           float64\ndtype: object"
     },
     "execution_count": 1895,
     "metadata": {},
     "output_type": "execute_result"
    }
   ],
   "source": [
    "ncov_ru_j.dtypes"
   ],
   "metadata": {
    "collapsed": false,
    "pycharm": {
     "name": "#%%\n"
    }
   }
  },
  {
   "cell_type": "code",
   "execution_count": 1896,
   "outputs": [
    {
     "data": {
      "text/plain": "Unnamed: 0_x                      int64\nФО                               object\nРегион                           object\nРегион название                  object\nРегион население                  int64\nUnnamed: 0_y                      int64\nДата                     datetime64[ns]\nЗаражений                         int64\nВыздоровлений                     int64\nСмертей                           int64\nСмертей за день                   int64\nЗаражений за день                 int64\nВыздоровлений за день             int64\nЛетальность, %                  float64\ndtype: object"
     },
     "execution_count": 1896,
     "metadata": {},
     "output_type": "execute_result"
    }
   ],
   "source": [
    "## преобразуйте тип данных в колонке \"Дата\" к типу \"datetime64\" -- примеры в нашем занятии\n",
    "ncov_ru_j['Дата'] = pd.to_datetime(ncov_ru_j['Дата'], dayfirst=True)\n",
    "ncov_ru_j.dtypes"
   ],
   "metadata": {
    "collapsed": false,
    "pycharm": {
     "name": "#%%\n"
    }
   }
  },
  {
   "cell_type": "code",
   "execution_count": 1897,
   "outputs": [
    {
     "data": {
      "text/plain": "                   Unnamed: 0_x                       ФО    Регион название  \\\nРегион Дата                                                                   \nАдыгея 2020-03-12            74  Южный федеральный округ  Республика Адыгея   \n       2020-03-13            74  Южный федеральный округ  Республика Адыгея   \n       2020-03-14            74  Южный федеральный округ  Республика Адыгея   \n       2020-03-15            74  Южный федеральный округ  Республика Адыгея   \n       2020-03-16            74  Южный федеральный округ  Республика Адыгея   \n\n                   Регион население  Unnamed: 0_y  Заражений  Выздоровлений  \\\nРегион Дата                                                                   \nАдыгея 2020-03-12            453376            74          0              0   \n       2020-03-13            453376           156          0              0   \n       2020-03-14            453376           238          0              0   \n       2020-03-15            453376           320          0              0   \n       2020-03-16            453376           402          0              0   \n\n                   Смертей  Смертей за день  Заражений за день  \\\nРегион Дата                                                      \nАдыгея 2020-03-12        0                0                  0   \n       2020-03-13        0                0                  0   \n       2020-03-14        0                0                  0   \n       2020-03-15        0                0                  0   \n       2020-03-16        0                0                  0   \n\n                   Выздоровлений за день  Летальность, %  \nРегион Дата                                               \nАдыгея 2020-03-12                      0             NaN  \n       2020-03-13                      0             NaN  \n       2020-03-14                      0             NaN  \n       2020-03-15                      0             NaN  \n       2020-03-16                      0             NaN  ",
      "text/html": "<div>\n<style scoped>\n    .dataframe tbody tr th:only-of-type {\n        vertical-align: middle;\n    }\n\n    .dataframe tbody tr th {\n        vertical-align: top;\n    }\n\n    .dataframe thead th {\n        text-align: right;\n    }\n</style>\n<table border=\"1\" class=\"dataframe\">\n  <thead>\n    <tr style=\"text-align: right;\">\n      <th></th>\n      <th></th>\n      <th>Unnamed: 0_x</th>\n      <th>ФО</th>\n      <th>Регион название</th>\n      <th>Регион население</th>\n      <th>Unnamed: 0_y</th>\n      <th>Заражений</th>\n      <th>Выздоровлений</th>\n      <th>Смертей</th>\n      <th>Смертей за день</th>\n      <th>Заражений за день</th>\n      <th>Выздоровлений за день</th>\n      <th>Летальность, %</th>\n    </tr>\n    <tr>\n      <th>Регион</th>\n      <th>Дата</th>\n      <th></th>\n      <th></th>\n      <th></th>\n      <th></th>\n      <th></th>\n      <th></th>\n      <th></th>\n      <th></th>\n      <th></th>\n      <th></th>\n      <th></th>\n      <th></th>\n    </tr>\n  </thead>\n  <tbody>\n    <tr>\n      <th rowspan=\"5\" valign=\"top\">Адыгея</th>\n      <th>2020-03-12</th>\n      <td>74</td>\n      <td>Южный федеральный округ</td>\n      <td>Республика Адыгея</td>\n      <td>453376</td>\n      <td>74</td>\n      <td>0</td>\n      <td>0</td>\n      <td>0</td>\n      <td>0</td>\n      <td>0</td>\n      <td>0</td>\n      <td>NaN</td>\n    </tr>\n    <tr>\n      <th>2020-03-13</th>\n      <td>74</td>\n      <td>Южный федеральный округ</td>\n      <td>Республика Адыгея</td>\n      <td>453376</td>\n      <td>156</td>\n      <td>0</td>\n      <td>0</td>\n      <td>0</td>\n      <td>0</td>\n      <td>0</td>\n      <td>0</td>\n      <td>NaN</td>\n    </tr>\n    <tr>\n      <th>2020-03-14</th>\n      <td>74</td>\n      <td>Южный федеральный округ</td>\n      <td>Республика Адыгея</td>\n      <td>453376</td>\n      <td>238</td>\n      <td>0</td>\n      <td>0</td>\n      <td>0</td>\n      <td>0</td>\n      <td>0</td>\n      <td>0</td>\n      <td>NaN</td>\n    </tr>\n    <tr>\n      <th>2020-03-15</th>\n      <td>74</td>\n      <td>Южный федеральный округ</td>\n      <td>Республика Адыгея</td>\n      <td>453376</td>\n      <td>320</td>\n      <td>0</td>\n      <td>0</td>\n      <td>0</td>\n      <td>0</td>\n      <td>0</td>\n      <td>0</td>\n      <td>NaN</td>\n    </tr>\n    <tr>\n      <th>2020-03-16</th>\n      <td>74</td>\n      <td>Южный федеральный округ</td>\n      <td>Республика Адыгея</td>\n      <td>453376</td>\n      <td>402</td>\n      <td>0</td>\n      <td>0</td>\n      <td>0</td>\n      <td>0</td>\n      <td>0</td>\n      <td>0</td>\n      <td>NaN</td>\n    </tr>\n  </tbody>\n</table>\n</div>"
     },
     "execution_count": 1897,
     "metadata": {},
     "output_type": "execute_result"
    }
   ],
   "source": [
    "## задайте в вашей таблице индексацию по полям \"Регион\" и \"Дата\"\n",
    "ncov_ru_j.set_index(['Регион','Дата'], inplace = True)\n",
    "ncov_ru_j.sort_index().head()\n"
   ],
   "metadata": {
    "collapsed": false,
    "pycharm": {
     "name": "#%%\n"
    }
   }
  },
  {
   "cell_type": "code",
   "metadata": {
    "id": "39BXPF13siMg"
   },
   "source": [
    "## Создайте в вашей таблице колонки:\n",
    "## \"Активных\" - число активных случаев = 'Заражений' - 'Выздоровлений' - 'Смертей'\n",
    "## \"Активных на 100К населения\"\n",
    "## \"Заражений на 100К населения\"\n",
    "## \"Смертей на 100К населения\"\n",
    "## \"Заражений за день на 100К населения\"\n",
    "## \"Смертей за день на 100К населения\"\n",
    "\n",
    "ncov_ru_j['Активных'] = ncov_ru_j['Заражений'] - ncov_ru_j['Смертей'] - ncov_ru_j['Выздоровлений']\n",
    "ncov_ru_j['Активных на 100К населения'] = ncov_ru_j['Активных'] / (ncov_ru_j['Регион население']/100000)\n",
    "ncov_ru_j['Заражений на 100К населения'] = ncov_ru_j['Заражений'] / (ncov_ru_j['Регион население']/100000)\n",
    "ncov_ru_j['Смертей на 100К населения'] = ncov_ru_j['Смертей'] / (ncov_ru_j['Регион население']/100000)\n",
    "ncov_ru_j['Заражений за день на 100К населения'] = ncov_ru_j['Заражений за день'] / (ncov_ru_j['Регион население']/100000)\n",
    "ncov_ru_j['Смертей за день на 100К населения'] = ncov_ru_j['Смертей за день'] / (ncov_ru_j['Регион население']/100000)\n",
    "ncov_ru_j.head()"
   ],
   "execution_count": 1898,
   "outputs": [
    {
     "data": {
      "text/plain": "                          Unnamed: 0_x                                 ФО  \\\nРегион        Дата                                                          \nАмурская обл. 2020-03-13             0  Дальневосточный федеральный округ   \n              2020-03-14             0  Дальневосточный федеральный округ   \n              2020-03-15             0  Дальневосточный федеральный округ   \n              2020-03-16             0  Дальневосточный федеральный округ   \n              2020-03-17             0  Дальневосточный федеральный округ   \n\n                           Регион название  Регион население  Unnamed: 0_y  \\\nРегион        Дата                                                           \nАмурская обл. 2020-03-13  Амурская область            798424            82   \n              2020-03-14  Амурская область            798424           164   \n              2020-03-15  Амурская область            798424           246   \n              2020-03-16  Амурская область            798424           328   \n              2020-03-17  Амурская область            798424           410   \n\n                          Заражений  Выздоровлений  Смертей  Смертей за день  \\\nРегион        Дата                                                             \nАмурская обл. 2020-03-13          0              0        0                0   \n              2020-03-14          0              0        0                0   \n              2020-03-15          0              0        0                0   \n              2020-03-16          0              0        0                0   \n              2020-03-17          0              0        0                0   \n\n                          Заражений за день  Выздоровлений за день  \\\nРегион        Дата                                                   \nАмурская обл. 2020-03-13                  0                      0   \n              2020-03-14                  0                      0   \n              2020-03-15                  0                      0   \n              2020-03-16                  0                      0   \n              2020-03-17                  0                      0   \n\n                          Летальность, %  Активных  \\\nРегион        Дата                                   \nАмурская обл. 2020-03-13             NaN         0   \n              2020-03-14             NaN         0   \n              2020-03-15             NaN         0   \n              2020-03-16             NaN         0   \n              2020-03-17             NaN         0   \n\n                          Активных на 100К населения  \\\nРегион        Дата                                     \nАмурская обл. 2020-03-13                         0.0   \n              2020-03-14                         0.0   \n              2020-03-15                         0.0   \n              2020-03-16                         0.0   \n              2020-03-17                         0.0   \n\n                          Заражений на 100К населения  \\\nРегион        Дата                                      \nАмурская обл. 2020-03-13                          0.0   \n              2020-03-14                          0.0   \n              2020-03-15                          0.0   \n              2020-03-16                          0.0   \n              2020-03-17                          0.0   \n\n                          Смертей на 100К населения  \\\nРегион        Дата                                    \nАмурская обл. 2020-03-13                        0.0   \n              2020-03-14                        0.0   \n              2020-03-15                        0.0   \n              2020-03-16                        0.0   \n              2020-03-17                        0.0   \n\n                          Заражений за день на 100К населения  \\\nРегион        Дата                                              \nАмурская обл. 2020-03-13                                  0.0   \n              2020-03-14                                  0.0   \n              2020-03-15                                  0.0   \n              2020-03-16                                  0.0   \n              2020-03-17                                  0.0   \n\n                          Смертей за день на 100К населения  \nРегион        Дата                                           \nАмурская обл. 2020-03-13                                0.0  \n              2020-03-14                                0.0  \n              2020-03-15                                0.0  \n              2020-03-16                                0.0  \n              2020-03-17                                0.0  ",
      "text/html": "<div>\n<style scoped>\n    .dataframe tbody tr th:only-of-type {\n        vertical-align: middle;\n    }\n\n    .dataframe tbody tr th {\n        vertical-align: top;\n    }\n\n    .dataframe thead th {\n        text-align: right;\n    }\n</style>\n<table border=\"1\" class=\"dataframe\">\n  <thead>\n    <tr style=\"text-align: right;\">\n      <th></th>\n      <th></th>\n      <th>Unnamed: 0_x</th>\n      <th>ФО</th>\n      <th>Регион название</th>\n      <th>Регион население</th>\n      <th>Unnamed: 0_y</th>\n      <th>Заражений</th>\n      <th>Выздоровлений</th>\n      <th>Смертей</th>\n      <th>Смертей за день</th>\n      <th>Заражений за день</th>\n      <th>Выздоровлений за день</th>\n      <th>Летальность, %</th>\n      <th>Активных</th>\n      <th>Активных на 100К населения</th>\n      <th>Заражений на 100К населения</th>\n      <th>Смертей на 100К населения</th>\n      <th>Заражений за день на 100К населения</th>\n      <th>Смертей за день на 100К населения</th>\n    </tr>\n    <tr>\n      <th>Регион</th>\n      <th>Дата</th>\n      <th></th>\n      <th></th>\n      <th></th>\n      <th></th>\n      <th></th>\n      <th></th>\n      <th></th>\n      <th></th>\n      <th></th>\n      <th></th>\n      <th></th>\n      <th></th>\n      <th></th>\n      <th></th>\n      <th></th>\n      <th></th>\n      <th></th>\n      <th></th>\n    </tr>\n  </thead>\n  <tbody>\n    <tr>\n      <th rowspan=\"5\" valign=\"top\">Амурская обл.</th>\n      <th>2020-03-13</th>\n      <td>0</td>\n      <td>Дальневосточный федеральный округ</td>\n      <td>Амурская область</td>\n      <td>798424</td>\n      <td>82</td>\n      <td>0</td>\n      <td>0</td>\n      <td>0</td>\n      <td>0</td>\n      <td>0</td>\n      <td>0</td>\n      <td>NaN</td>\n      <td>0</td>\n      <td>0.0</td>\n      <td>0.0</td>\n      <td>0.0</td>\n      <td>0.0</td>\n      <td>0.0</td>\n    </tr>\n    <tr>\n      <th>2020-03-14</th>\n      <td>0</td>\n      <td>Дальневосточный федеральный округ</td>\n      <td>Амурская область</td>\n      <td>798424</td>\n      <td>164</td>\n      <td>0</td>\n      <td>0</td>\n      <td>0</td>\n      <td>0</td>\n      <td>0</td>\n      <td>0</td>\n      <td>NaN</td>\n      <td>0</td>\n      <td>0.0</td>\n      <td>0.0</td>\n      <td>0.0</td>\n      <td>0.0</td>\n      <td>0.0</td>\n    </tr>\n    <tr>\n      <th>2020-03-15</th>\n      <td>0</td>\n      <td>Дальневосточный федеральный округ</td>\n      <td>Амурская область</td>\n      <td>798424</td>\n      <td>246</td>\n      <td>0</td>\n      <td>0</td>\n      <td>0</td>\n      <td>0</td>\n      <td>0</td>\n      <td>0</td>\n      <td>NaN</td>\n      <td>0</td>\n      <td>0.0</td>\n      <td>0.0</td>\n      <td>0.0</td>\n      <td>0.0</td>\n      <td>0.0</td>\n    </tr>\n    <tr>\n      <th>2020-03-16</th>\n      <td>0</td>\n      <td>Дальневосточный федеральный округ</td>\n      <td>Амурская область</td>\n      <td>798424</td>\n      <td>328</td>\n      <td>0</td>\n      <td>0</td>\n      <td>0</td>\n      <td>0</td>\n      <td>0</td>\n      <td>0</td>\n      <td>NaN</td>\n      <td>0</td>\n      <td>0.0</td>\n      <td>0.0</td>\n      <td>0.0</td>\n      <td>0.0</td>\n      <td>0.0</td>\n    </tr>\n    <tr>\n      <th>2020-03-17</th>\n      <td>0</td>\n      <td>Дальневосточный федеральный округ</td>\n      <td>Амурская область</td>\n      <td>798424</td>\n      <td>410</td>\n      <td>0</td>\n      <td>0</td>\n      <td>0</td>\n      <td>0</td>\n      <td>0</td>\n      <td>0</td>\n      <td>NaN</td>\n      <td>0</td>\n      <td>0.0</td>\n      <td>0.0</td>\n      <td>0.0</td>\n      <td>0.0</td>\n      <td>0.0</td>\n    </tr>\n  </tbody>\n</table>\n</div>"
     },
     "execution_count": 1898,
     "metadata": {},
     "output_type": "execute_result"
    }
   ]
  },
  {
   "cell_type": "code",
   "execution_count": 1899,
   "outputs": [
    {
     "data": {
      "text/plain": "ФО\nДальневосточный федеральный округ      1981449449\nПриволжский федеральный округ          7119789736\nСеверо-Западный федеральный округ      3369605249\nСеверо-Кавказский федеральный округ    2377282402\nСибирский федеральный округ            4168171553\nУральский федеральный округ            2990207418\nЦентральный федеральный округ          9513361946\nЮжный федеральный округ                3978928184\nName: Регион население, dtype: int64"
     },
     "execution_count": 1899,
     "metadata": {},
     "output_type": "execute_result"
    }
   ],
   "source": [
    "## ВОПРОСЫ:\n",
    "## посчитайте численность населения в федеральных округах\n",
    "ncov_ru_j.groupby(['ФО'])['Регион население'].sum()"
   ],
   "metadata": {
    "collapsed": false,
    "pycharm": {
     "name": "#%%\n"
    }
   }
  },
  {
   "cell_type": "code",
   "execution_count": 1900,
   "outputs": [
    {
     "data": {
      "text/plain": "35498795937"
     },
     "execution_count": 1900,
     "metadata": {},
     "output_type": "execute_result"
    }
   ],
   "source": [
    "# и в РФ\n",
    "ncov_ru_j.groupby(['ФО'])['Регион население'].sum().sum()"
   ],
   "metadata": {
    "collapsed": false,
    "pycharm": {
     "name": "#%%\n"
    }
   }
  },
  {
   "cell_type": "code",
   "execution_count": 1901,
   "outputs": [
    {
     "data": {
      "text/plain": "Регион\nДагестан              4.93\nСанкт-Петербург       2.63\nИнгушетия             2.51\nЗабайкальский край    2.15\nТверская обл.         2.04\n                      ... \nТыва                  0.10\nКурганская обл.       0.00\nСахалинская обл.      0.00\nНенецкий АО           0.00\nАлтай                 0.00\nName: Летальность, %, Length: 85, dtype: float64"
     },
     "execution_count": 1901,
     "metadata": {},
     "output_type": "execute_result"
    }
   ],
   "source": [
    "## сравните регионы по уровню летальности за 2020-06-11 -- сортировка значений производится с помощью метода ncov_ru_j.xs(<ваше творчество>)['Летальность, %'].sort_values(ascending = False)\n",
    "ncov_ru_j.xs('2020-06-11', level = 'Дата')['Летальность, %'].sort_values(ascending = False)"
   ],
   "metadata": {
    "collapsed": false,
    "pycharm": {
     "name": "#%%\n"
    }
   }
  },
  {
   "cell_type": "code",
   "execution_count": 1902,
   "outputs": [
    {
     "data": {
      "text/plain": "Регион\nДагестан               4.93\nСанкт-Петербург        2.63\nИнгушетия              2.51\nЗабайкальский край     2.15\nТверская обл.          2.04\nСтавропольский край    1.93\nСевастополь            1.69\nСеверная Осетия        1.69\nМосква                 1.56\nКоми                   1.55\nName: Летальность, %, dtype: float64"
     },
     "execution_count": 1902,
     "metadata": {},
     "output_type": "execute_result"
    }
   ],
   "source": [
    "## - нужно вывести 10 регионов с наиболее высокой летальностью\n",
    "ncov_ru_j.xs('2020-06-11', level = 'Дата')['Летальность, %'].sort_values(ascending = False).head(10)"
   ],
   "metadata": {
    "collapsed": false,
    "pycharm": {
     "name": "#%%\n"
    }
   }
  },
  {
   "cell_type": "code",
   "execution_count": 1903,
   "outputs": [
    {
     "data": {
      "text/plain": "Регион\nАлтай               0.00\nСахалинская обл.    0.00\nНенецкий АО         0.00\nКурганская обл.     0.00\nТыва                0.10\nМурманская обл.     0.19\nТамбовская обл.     0.22\nТатарстан           0.26\nРязанская обл.      0.26\nЛипецкая обл.       0.28\nName: Летальность, %, dtype: float64"
     },
     "execution_count": 1903,
     "metadata": {},
     "output_type": "execute_result"
    }
   ],
   "source": [
    "## - 10 регионов с наименьшей летальностью\n",
    "ncov_ru_j.xs('2020-06-11', level = 'Дата')['Летальность, %'].sort_values(ascending = True).head(10)"
   ],
   "metadata": {
    "collapsed": false,
    "pycharm": {
     "name": "#%%\n"
    }
   }
  },
  {
   "cell_type": "code",
   "execution_count": 1904,
   "outputs": [
    {
     "data": {
      "text/plain": "count    85.000000\nmean      0.932118\nstd       0.686780\nmin       0.000000\n25%       0.540000\n50%       0.840000\n75%       1.140000\nmax       4.930000\nName: Летальность, %, dtype: float64"
     },
     "execution_count": 1904,
     "metadata": {},
     "output_type": "execute_result"
    }
   ],
   "source": [
    "## - описать летальность за 2020-06-11 -- среднее, квартильные значения, мин., макс. и т.п.\n",
    "ncov_ru_j.xs('2020-06-11', level = 'Дата')['Летальность, %'].describe()"
   ],
   "metadata": {
    "collapsed": false,
    "pycharm": {
     "name": "#%%\n"
    }
   }
  },
  {
   "cell_type": "code",
   "execution_count": 1905,
   "outputs": [
    {
     "data": {
      "text/plain": "Дата                                 2020-03-12  2020-03-13  2020-03-14  \\\nФО                                                                        \nДальневосточный федеральный округ           NaN         NaN         NaN   \nПриволжский федеральный округ               NaN         0.0         0.0   \nСеверо-Западный федеральный округ           0.0         0.0         0.0   \nСеверо-Кавказский федеральный округ         NaN         NaN         NaN   \nСибирский федеральный округ                 NaN         NaN         0.0   \nУральский федеральный округ                 NaN         NaN         NaN   \nЦентральный федеральный округ               0.0         0.0         0.0   \nЮжный федеральный округ                     0.0         0.0         0.0   \n\nДата                                 2020-03-15  2020-03-16  2020-03-17  \\\nФО                                                                        \nДальневосточный федеральный округ           NaN         0.0         0.0   \nПриволжский федеральный округ               0.0         0.0         0.0   \nСеверо-Западный федеральный округ           0.0         0.0         0.0   \nСеверо-Кавказский федеральный округ         NaN         NaN         NaN   \nСибирский федеральный округ                 0.0         0.0         0.0   \nУральский федеральный округ                 0.0         0.0         0.0   \nЦентральный федеральный округ               0.0         0.0         0.0   \nЮжный федеральный округ                     0.0         0.0         0.0   \n\nДата                                 2020-03-18  2020-03-19  2020-03-20  \\\nФО                                                                        \nДальневосточный федеральный округ           0.0         0.0         0.0   \nПриволжский федеральный округ               0.0         0.0         0.0   \nСеверо-Западный федеральный округ           0.0         0.0         0.0   \nСеверо-Кавказский федеральный округ         NaN         NaN         NaN   \nСибирский федеральный округ                 0.0         0.0         0.0   \nУральский федеральный округ                 0.0         0.0         0.0   \nЦентральный федеральный округ               0.0         0.0         0.0   \nЮжный федеральный округ                     0.0         0.0         0.0   \n\nДата                                 2020-03-21  ...  2020-10-30  2020-10-31  \\\nФО                                               ...                           \nДальневосточный федеральный округ           0.0  ...    0.951499    0.952529   \nПриволжский федеральный округ               0.0  ...    1.334385    1.338202   \nСеверо-Западный федеральный округ           0.0  ...    1.557340    1.550081   \nСеверо-Кавказский федеральный округ         0.0  ...    1.809263    1.805430   \nСибирский федеральный округ                 0.0  ...    1.692341    1.695146   \nУральский федеральный округ                 0.0  ...    1.097019    1.100774   \nЦентральный федеральный округ               0.0  ...    1.476525    1.488952   \nЮжный федеральный округ                     0.0  ...    1.761052    1.777193   \n\nДата                                 2020-11-01  2020-11-02  2020-11-03  \\\nФО                                                                        \nДальневосточный федеральный округ      0.950961    0.957536    0.960107   \nПриволжский федеральный округ          1.342507    1.349544    1.358456   \nСеверо-Западный федеральный округ      1.538429    1.521668    1.516276   \nСеверо-Кавказский федеральный округ    1.805597    1.802568    1.795742   \nСибирский федеральный округ            1.688495    1.694667    1.693163   \nУральский федеральный округ            1.095975    1.091278    1.102579   \nЦентральный федеральный округ          1.481388    1.471677    1.467841   \nЮжный федеральный округ                1.772580    1.760184    1.772039   \n\nДата                                 2020-11-04  2020-11-05  2020-11-06  \\\nФО                                                                        \nДальневосточный федеральный округ      0.981090    1.002195    1.021125   \nПриволжский федеральный округ          1.364779    1.363534    1.371752   \nСеверо-Западный федеральный округ      1.509704    1.498808    1.493711   \nСеверо-Кавказский федеральный округ    1.797393    1.794365    1.793563   \nСибирский федеральный округ            1.689346    1.693542    1.694754   \nУральский федеральный округ            1.117830    1.124897    1.131310   \nЦентральный федеральный округ          1.470969    1.460178    1.457459   \nЮжный федеральный округ                1.771346    1.765041    1.786423   \n\nДата                                 2020-11-07  2020-11-08  \nФО                                                           \nДальневосточный федеральный округ      1.055797    1.061831  \nПриволжский федеральный округ          1.380087    1.377507  \nСеверо-Западный федеральный округ      1.484491    1.470334  \nСеверо-Кавказский федеральный округ    1.787636    1.781853  \nСибирский федеральный округ            1.692478    1.691566  \nУральский федеральный округ            1.133268    1.129474  \nЦентральный федеральный округ          1.455942    1.446417  \nЮжный федеральный округ                1.791450    1.788728  \n\n[8 rows x 242 columns]",
      "text/html": "<div>\n<style scoped>\n    .dataframe tbody tr th:only-of-type {\n        vertical-align: middle;\n    }\n\n    .dataframe tbody tr th {\n        vertical-align: top;\n    }\n\n    .dataframe thead th {\n        text-align: right;\n    }\n</style>\n<table border=\"1\" class=\"dataframe\">\n  <thead>\n    <tr style=\"text-align: right;\">\n      <th>Дата</th>\n      <th>2020-03-12</th>\n      <th>2020-03-13</th>\n      <th>2020-03-14</th>\n      <th>2020-03-15</th>\n      <th>2020-03-16</th>\n      <th>2020-03-17</th>\n      <th>2020-03-18</th>\n      <th>2020-03-19</th>\n      <th>2020-03-20</th>\n      <th>2020-03-21</th>\n      <th>...</th>\n      <th>2020-10-30</th>\n      <th>2020-10-31</th>\n      <th>2020-11-01</th>\n      <th>2020-11-02</th>\n      <th>2020-11-03</th>\n      <th>2020-11-04</th>\n      <th>2020-11-05</th>\n      <th>2020-11-06</th>\n      <th>2020-11-07</th>\n      <th>2020-11-08</th>\n    </tr>\n    <tr>\n      <th>ФО</th>\n      <th></th>\n      <th></th>\n      <th></th>\n      <th></th>\n      <th></th>\n      <th></th>\n      <th></th>\n      <th></th>\n      <th></th>\n      <th></th>\n      <th></th>\n      <th></th>\n      <th></th>\n      <th></th>\n      <th></th>\n      <th></th>\n      <th></th>\n      <th></th>\n      <th></th>\n      <th></th>\n      <th></th>\n    </tr>\n  </thead>\n  <tbody>\n    <tr>\n      <th>Дальневосточный федеральный округ</th>\n      <td>NaN</td>\n      <td>NaN</td>\n      <td>NaN</td>\n      <td>NaN</td>\n      <td>0.0</td>\n      <td>0.0</td>\n      <td>0.0</td>\n      <td>0.0</td>\n      <td>0.0</td>\n      <td>0.0</td>\n      <td>...</td>\n      <td>0.951499</td>\n      <td>0.952529</td>\n      <td>0.950961</td>\n      <td>0.957536</td>\n      <td>0.960107</td>\n      <td>0.981090</td>\n      <td>1.002195</td>\n      <td>1.021125</td>\n      <td>1.055797</td>\n      <td>1.061831</td>\n    </tr>\n    <tr>\n      <th>Приволжский федеральный округ</th>\n      <td>NaN</td>\n      <td>0.0</td>\n      <td>0.0</td>\n      <td>0.0</td>\n      <td>0.0</td>\n      <td>0.0</td>\n      <td>0.0</td>\n      <td>0.0</td>\n      <td>0.0</td>\n      <td>0.0</td>\n      <td>...</td>\n      <td>1.334385</td>\n      <td>1.338202</td>\n      <td>1.342507</td>\n      <td>1.349544</td>\n      <td>1.358456</td>\n      <td>1.364779</td>\n      <td>1.363534</td>\n      <td>1.371752</td>\n      <td>1.380087</td>\n      <td>1.377507</td>\n    </tr>\n    <tr>\n      <th>Северо-Западный федеральный округ</th>\n      <td>0.0</td>\n      <td>0.0</td>\n      <td>0.0</td>\n      <td>0.0</td>\n      <td>0.0</td>\n      <td>0.0</td>\n      <td>0.0</td>\n      <td>0.0</td>\n      <td>0.0</td>\n      <td>0.0</td>\n      <td>...</td>\n      <td>1.557340</td>\n      <td>1.550081</td>\n      <td>1.538429</td>\n      <td>1.521668</td>\n      <td>1.516276</td>\n      <td>1.509704</td>\n      <td>1.498808</td>\n      <td>1.493711</td>\n      <td>1.484491</td>\n      <td>1.470334</td>\n    </tr>\n    <tr>\n      <th>Северо-Кавказский федеральный округ</th>\n      <td>NaN</td>\n      <td>NaN</td>\n      <td>NaN</td>\n      <td>NaN</td>\n      <td>NaN</td>\n      <td>NaN</td>\n      <td>NaN</td>\n      <td>NaN</td>\n      <td>NaN</td>\n      <td>0.0</td>\n      <td>...</td>\n      <td>1.809263</td>\n      <td>1.805430</td>\n      <td>1.805597</td>\n      <td>1.802568</td>\n      <td>1.795742</td>\n      <td>1.797393</td>\n      <td>1.794365</td>\n      <td>1.793563</td>\n      <td>1.787636</td>\n      <td>1.781853</td>\n    </tr>\n    <tr>\n      <th>Сибирский федеральный округ</th>\n      <td>NaN</td>\n      <td>NaN</td>\n      <td>0.0</td>\n      <td>0.0</td>\n      <td>0.0</td>\n      <td>0.0</td>\n      <td>0.0</td>\n      <td>0.0</td>\n      <td>0.0</td>\n      <td>0.0</td>\n      <td>...</td>\n      <td>1.692341</td>\n      <td>1.695146</td>\n      <td>1.688495</td>\n      <td>1.694667</td>\n      <td>1.693163</td>\n      <td>1.689346</td>\n      <td>1.693542</td>\n      <td>1.694754</td>\n      <td>1.692478</td>\n      <td>1.691566</td>\n    </tr>\n    <tr>\n      <th>Уральский федеральный округ</th>\n      <td>NaN</td>\n      <td>NaN</td>\n      <td>NaN</td>\n      <td>0.0</td>\n      <td>0.0</td>\n      <td>0.0</td>\n      <td>0.0</td>\n      <td>0.0</td>\n      <td>0.0</td>\n      <td>0.0</td>\n      <td>...</td>\n      <td>1.097019</td>\n      <td>1.100774</td>\n      <td>1.095975</td>\n      <td>1.091278</td>\n      <td>1.102579</td>\n      <td>1.117830</td>\n      <td>1.124897</td>\n      <td>1.131310</td>\n      <td>1.133268</td>\n      <td>1.129474</td>\n    </tr>\n    <tr>\n      <th>Центральный федеральный округ</th>\n      <td>0.0</td>\n      <td>0.0</td>\n      <td>0.0</td>\n      <td>0.0</td>\n      <td>0.0</td>\n      <td>0.0</td>\n      <td>0.0</td>\n      <td>0.0</td>\n      <td>0.0</td>\n      <td>0.0</td>\n      <td>...</td>\n      <td>1.476525</td>\n      <td>1.488952</td>\n      <td>1.481388</td>\n      <td>1.471677</td>\n      <td>1.467841</td>\n      <td>1.470969</td>\n      <td>1.460178</td>\n      <td>1.457459</td>\n      <td>1.455942</td>\n      <td>1.446417</td>\n    </tr>\n    <tr>\n      <th>Южный федеральный округ</th>\n      <td>0.0</td>\n      <td>0.0</td>\n      <td>0.0</td>\n      <td>0.0</td>\n      <td>0.0</td>\n      <td>0.0</td>\n      <td>0.0</td>\n      <td>0.0</td>\n      <td>0.0</td>\n      <td>0.0</td>\n      <td>...</td>\n      <td>1.761052</td>\n      <td>1.777193</td>\n      <td>1.772580</td>\n      <td>1.760184</td>\n      <td>1.772039</td>\n      <td>1.771346</td>\n      <td>1.765041</td>\n      <td>1.786423</td>\n      <td>1.791450</td>\n      <td>1.788728</td>\n    </tr>\n  </tbody>\n</table>\n<p>8 rows × 242 columns</p>\n</div>"
     },
     "execution_count": 1905,
     "metadata": {},
     "output_type": "execute_result"
    }
   ],
   "source": [
    "# рассчитайте летальность по федеральным округам (Смертей*100/Заражений), преобразуйте таблицу к виду: округа (строки) х дата (столбцы)\n",
    "\n",
    "ncov_ru_j['Летальность'] = (ncov_ru_j['Смертей']*100)/ncov_ru_j['Заражений']\n",
    "pp = pd.pivot_table(ncov_ru_j, index='ФО', columns='Дата', values= 'Летальность')\n",
    "pp"
   ],
   "metadata": {
    "collapsed": false,
    "pycharm": {
     "name": "#%%\n"
    }
   }
  },
  {
   "cell_type": "code",
   "execution_count": 1906,
   "outputs": [],
   "source": [
    "## полученную таблицу с данными за последние 2 недели сохраните в формате CSV\n",
    "# ncov_ru_j.reset_index(inplace=True)\n",
    "pp.iloc[:,[i for i in range(-14,0,1)]].to_csv('last_two_weeks.csv', index=False)"
   ],
   "metadata": {
    "collapsed": false,
    "pycharm": {
     "name": "#%%\n"
    }
   }
  },
  {
   "cell_type": "code",
   "execution_count": 1907,
   "outputs": [
    {
     "data": {
      "text/plain": "ФО\nСеверо-Кавказский федеральный округ    1.645122\ndtype: float64"
     },
     "execution_count": 1907,
     "metadata": {},
     "output_type": "execute_result"
    }
   ],
   "source": [
    "## какой округ лидирует по уровню летальности?\n",
    "pp.mean(axis = 1).sort_values(ascending = False).head(1)"
   ],
   "metadata": {
    "collapsed": false,
    "pycharm": {
     "name": "#%%\n"
    }
   }
  },
  {
   "cell_type": "code",
   "execution_count": 1908,
   "outputs": [
    {
     "data": {
      "text/plain": "                                                          mean  \\\n                                    Активных на 100К населения   \nФО                                                               \nДальневосточный федеральный округ                   214.625216   \nПриволжский федеральный округ                       116.980317   \nСеверо-Западный федеральный округ                   245.307199   \nСеверо-Кавказский федеральный округ                 170.786445   \nСибирский федеральный округ                         158.875097   \nУральский федеральный округ                         176.251678   \nЦентральный федеральный округ                       150.264595   \nЮжный федеральный округ                             194.369359   \n\n                                                          amin  \\\n                                    Активных на 100К населения   \nФО                                                               \nДальневосточный федеральный округ                     6.079274   \nПриволжский федеральный округ                         0.689096   \nСеверо-Западный федеральный округ                    33.993689   \nСеверо-Кавказский федеральный округ                  28.601631   \nСибирский федеральный округ                          23.199535   \nУральский федеральный округ                          36.675097   \nЦентральный федеральный округ                        26.625919   \nЮжный федеральный округ                               5.012216   \n\n                                                          amax  \n                                    Активных на 100К населения  \nФО                                                              \nДальневосточный федеральный округ                   779.368593  \nПриволжский федеральный округ                       354.961433  \nСеверо-Западный федеральный округ                   749.484038  \nСеверо-Кавказский федеральный округ                 847.942870  \nСибирский федеральный округ                        1063.454139  \nУральский федеральный округ                        1089.227124  \nЦентральный федеральный округ                       847.001727  \nЮжный федеральный округ                            1154.629593  ",
      "text/html": "<div>\n<style scoped>\n    .dataframe tbody tr th:only-of-type {\n        vertical-align: middle;\n    }\n\n    .dataframe tbody tr th {\n        vertical-align: top;\n    }\n\n    .dataframe thead tr th {\n        text-align: left;\n    }\n\n    .dataframe thead tr:last-of-type th {\n        text-align: right;\n    }\n</style>\n<table border=\"1\" class=\"dataframe\">\n  <thead>\n    <tr>\n      <th></th>\n      <th>mean</th>\n      <th>amin</th>\n      <th>amax</th>\n    </tr>\n    <tr>\n      <th></th>\n      <th>Активных на 100К населения</th>\n      <th>Активных на 100К населения</th>\n      <th>Активных на 100К населения</th>\n    </tr>\n    <tr>\n      <th>ФО</th>\n      <th></th>\n      <th></th>\n      <th></th>\n    </tr>\n  </thead>\n  <tbody>\n    <tr>\n      <th>Дальневосточный федеральный округ</th>\n      <td>214.625216</td>\n      <td>6.079274</td>\n      <td>779.368593</td>\n    </tr>\n    <tr>\n      <th>Приволжский федеральный округ</th>\n      <td>116.980317</td>\n      <td>0.689096</td>\n      <td>354.961433</td>\n    </tr>\n    <tr>\n      <th>Северо-Западный федеральный округ</th>\n      <td>245.307199</td>\n      <td>33.993689</td>\n      <td>749.484038</td>\n    </tr>\n    <tr>\n      <th>Северо-Кавказский федеральный округ</th>\n      <td>170.786445</td>\n      <td>28.601631</td>\n      <td>847.942870</td>\n    </tr>\n    <tr>\n      <th>Сибирский федеральный округ</th>\n      <td>158.875097</td>\n      <td>23.199535</td>\n      <td>1063.454139</td>\n    </tr>\n    <tr>\n      <th>Уральский федеральный округ</th>\n      <td>176.251678</td>\n      <td>36.675097</td>\n      <td>1089.227124</td>\n    </tr>\n    <tr>\n      <th>Центральный федеральный округ</th>\n      <td>150.264595</td>\n      <td>26.625919</td>\n      <td>847.001727</td>\n    </tr>\n    <tr>\n      <th>Южный федеральный округ</th>\n      <td>194.369359</td>\n      <td>5.012216</td>\n      <td>1154.629593</td>\n    </tr>\n  </tbody>\n</table>\n</div>"
     },
     "execution_count": 1908,
     "metadata": {},
     "output_type": "execute_result"
    }
   ],
   "source": [
    "## постройте сводную таблицу (с помощью pd.pivot_table) с данными о среднем,\n",
    "# минимальном и максимальном количестве активных случаев на 100 тыс. человек за сентябрь 2020 г. по федеральным округам.\n",
    "ncov_ru_j.reset_index(inplace=True)\n",
    "\n",
    "pd.pivot_table(ncov_ru_j[(ncov_ru_j['Дата'] > '2020-08-31') & (ncov_ru_j['Дата'] < '2020-11-01')],\n",
    "               index=['ФО'],\n",
    "               values=['Активных на 100К населения'],\n",
    "               aggfunc=[np.mean, np.min, np.max])"
   ],
   "metadata": {
    "collapsed": false,
    "pycharm": {
     "name": "#%%\n"
    }
   }
  },
  {
   "cell_type": "code",
   "execution_count": 1909,
   "outputs": [
    {
     "data": {
      "text/plain": "Регион\nКрым    43.423031\nName: Заражений на 100К населения, dtype: float64"
     },
     "execution_count": 1909,
     "metadata": {},
     "output_type": "execute_result"
    }
   ],
   "source": [
    "## где на 2020-07-11 отмечена наименьшая заболеваемость -- \"Заражений на 100К населения\" -- в каком регионе?\n",
    "ncov_ru_j[ncov_ru_j['Дата'] == '2020-07-11'].groupby(['Регион'])['Заражений на 100К населения'].sum().sort_values(ascending = True).head(1)"
   ],
   "metadata": {
    "collapsed": false,
    "pycharm": {
     "name": "#%%\n"
    }
   }
  },
  {
   "cell_type": "code",
   "execution_count": 1910,
   "outputs": [
    {
     "data": {
      "text/plain": "Регион\nКрым                   43.423031\nСевастополь            61.144571\nКемеровская обл.       87.350925\nУдмуртия              112.422375\nКраснодарский край    118.748907\nЧечня                 126.724014\nТатарстан             127.468875\nБашкортостан          144.587161\nКурганская обл.       154.103250\nВологодская обл.      157.730717\nName: Заражений на 100К населения, dtype: float64"
     },
     "execution_count": 1910,
     "metadata": {},
     "output_type": "execute_result"
    }
   ],
   "source": [
    "# Приведите 10 регионов с наименьшей заболеваемостью на указанную дату.\n",
    "ncov_ru_j[ncov_ru_j['Дата'] == '2020-07-11'].groupby(['Регион'])['Заражений на 100К населения'].sum().sort_values(ascending = True).head(10)"
   ],
   "metadata": {
    "collapsed": false,
    "pycharm": {
     "name": "#%%\n"
    }
   }
  }
 ]
}